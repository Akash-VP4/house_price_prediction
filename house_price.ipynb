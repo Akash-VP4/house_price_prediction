{
 "cells": [
  {
   "cell_type": "markdown",
   "id": "d2ff97e5",
   "metadata": {},
   "source": [
    "## House price prediction"
   ]
  },
  {
   "cell_type": "code",
   "execution_count": 58,
   "id": "7192e8bc",
   "metadata": {},
   "outputs": [],
   "source": [
    "#Importing libraries \n",
    "\n",
    "from sklearn import datasets\n",
    "import pandas as pd\n",
    "from sklearn.model_selection import train_test_split\n",
    "from sklearn.linear_model import LinearRegression\n",
    "from sklearn.metrics import r2_score\n",
    "import joblib\n",
    "import matplotlib.pyplot as plt\n",
    "\n",
    "\n"
   ]
  },
  {
   "cell_type": "code",
   "execution_count": 2,
   "id": "f1f63d85",
   "metadata": {},
   "outputs": [
    {
     "data": {
      "application/vnd.microsoft.datawrangler.viewer.v0+json": {
       "columns": [
        {
         "name": "index",
         "rawType": "int64",
         "type": "integer"
        },
        {
         "name": "MedInc",
         "rawType": "float64",
         "type": "float"
        },
        {
         "name": "HouseAge",
         "rawType": "float64",
         "type": "float"
        },
        {
         "name": "AveRooms",
         "rawType": "float64",
         "type": "float"
        },
        {
         "name": "AveBedrms",
         "rawType": "float64",
         "type": "float"
        },
        {
         "name": "Population",
         "rawType": "float64",
         "type": "float"
        },
        {
         "name": "AveOccup",
         "rawType": "float64",
         "type": "float"
        },
        {
         "name": "Latitude",
         "rawType": "float64",
         "type": "float"
        },
        {
         "name": "Longitude",
         "rawType": "float64",
         "type": "float"
        },
        {
         "name": "Price",
         "rawType": "float64",
         "type": "float"
        }
       ],
       "ref": "05fcf5c1-acf5-4e28-85fb-eaa405d16dcd",
       "rows": [
        [
         "0",
         "8.3252",
         "41.0",
         "6.984126984126984",
         "1.0238095238095237",
         "322.0",
         "2.5555555555555554",
         "37.88",
         "-122.23",
         "4.526"
        ],
        [
         "1",
         "8.3014",
         "21.0",
         "6.238137082601054",
         "0.9718804920913884",
         "2401.0",
         "2.109841827768014",
         "37.86",
         "-122.22",
         "3.585"
        ],
        [
         "2",
         "7.2574",
         "52.0",
         "8.288135593220339",
         "1.073446327683616",
         "496.0",
         "2.8022598870056497",
         "37.85",
         "-122.24",
         "3.521"
        ],
        [
         "3",
         "5.6431",
         "52.0",
         "5.8173515981735155",
         "1.0730593607305936",
         "558.0",
         "2.547945205479452",
         "37.85",
         "-122.25",
         "3.413"
        ],
        [
         "4",
         "3.8462",
         "52.0",
         "6.281853281853282",
         "1.0810810810810811",
         "565.0",
         "2.1814671814671813",
         "37.85",
         "-122.25",
         "3.422"
        ],
        [
         "5",
         "4.0368",
         "52.0",
         "4.761658031088083",
         "1.1036269430051813",
         "413.0",
         "2.139896373056995",
         "37.85",
         "-122.25",
         "2.697"
        ],
        [
         "6",
         "3.6591",
         "52.0",
         "4.9319066147859925",
         "0.9513618677042801",
         "1094.0",
         "2.1284046692607004",
         "37.84",
         "-122.25",
         "2.992"
        ],
        [
         "7",
         "3.12",
         "52.0",
         "4.797527047913447",
         "1.061823802163833",
         "1157.0",
         "1.7882534775888717",
         "37.84",
         "-122.25",
         "2.414"
        ],
        [
         "8",
         "2.0804",
         "42.0",
         "4.294117647058823",
         "1.1176470588235294",
         "1206.0",
         "2.026890756302521",
         "37.84",
         "-122.26",
         "2.267"
        ],
        [
         "9",
         "3.6912",
         "52.0",
         "4.970588235294118",
         "0.9901960784313726",
         "1551.0",
         "2.172268907563025",
         "37.84",
         "-122.25",
         "2.611"
        ]
       ],
       "shape": {
        "columns": 9,
        "rows": 10
       }
      },
      "text/html": [
       "<div>\n",
       "<style scoped>\n",
       "    .dataframe tbody tr th:only-of-type {\n",
       "        vertical-align: middle;\n",
       "    }\n",
       "\n",
       "    .dataframe tbody tr th {\n",
       "        vertical-align: top;\n",
       "    }\n",
       "\n",
       "    .dataframe thead th {\n",
       "        text-align: right;\n",
       "    }\n",
       "</style>\n",
       "<table border=\"1\" class=\"dataframe\">\n",
       "  <thead>\n",
       "    <tr style=\"text-align: right;\">\n",
       "      <th></th>\n",
       "      <th>MedInc</th>\n",
       "      <th>HouseAge</th>\n",
       "      <th>AveRooms</th>\n",
       "      <th>AveBedrms</th>\n",
       "      <th>Population</th>\n",
       "      <th>AveOccup</th>\n",
       "      <th>Latitude</th>\n",
       "      <th>Longitude</th>\n",
       "      <th>Price</th>\n",
       "    </tr>\n",
       "  </thead>\n",
       "  <tbody>\n",
       "    <tr>\n",
       "      <th>0</th>\n",
       "      <td>8.3252</td>\n",
       "      <td>41.0</td>\n",
       "      <td>6.984127</td>\n",
       "      <td>1.023810</td>\n",
       "      <td>322.0</td>\n",
       "      <td>2.555556</td>\n",
       "      <td>37.88</td>\n",
       "      <td>-122.23</td>\n",
       "      <td>4.526</td>\n",
       "    </tr>\n",
       "    <tr>\n",
       "      <th>1</th>\n",
       "      <td>8.3014</td>\n",
       "      <td>21.0</td>\n",
       "      <td>6.238137</td>\n",
       "      <td>0.971880</td>\n",
       "      <td>2401.0</td>\n",
       "      <td>2.109842</td>\n",
       "      <td>37.86</td>\n",
       "      <td>-122.22</td>\n",
       "      <td>3.585</td>\n",
       "    </tr>\n",
       "    <tr>\n",
       "      <th>2</th>\n",
       "      <td>7.2574</td>\n",
       "      <td>52.0</td>\n",
       "      <td>8.288136</td>\n",
       "      <td>1.073446</td>\n",
       "      <td>496.0</td>\n",
       "      <td>2.802260</td>\n",
       "      <td>37.85</td>\n",
       "      <td>-122.24</td>\n",
       "      <td>3.521</td>\n",
       "    </tr>\n",
       "    <tr>\n",
       "      <th>3</th>\n",
       "      <td>5.6431</td>\n",
       "      <td>52.0</td>\n",
       "      <td>5.817352</td>\n",
       "      <td>1.073059</td>\n",
       "      <td>558.0</td>\n",
       "      <td>2.547945</td>\n",
       "      <td>37.85</td>\n",
       "      <td>-122.25</td>\n",
       "      <td>3.413</td>\n",
       "    </tr>\n",
       "    <tr>\n",
       "      <th>4</th>\n",
       "      <td>3.8462</td>\n",
       "      <td>52.0</td>\n",
       "      <td>6.281853</td>\n",
       "      <td>1.081081</td>\n",
       "      <td>565.0</td>\n",
       "      <td>2.181467</td>\n",
       "      <td>37.85</td>\n",
       "      <td>-122.25</td>\n",
       "      <td>3.422</td>\n",
       "    </tr>\n",
       "    <tr>\n",
       "      <th>5</th>\n",
       "      <td>4.0368</td>\n",
       "      <td>52.0</td>\n",
       "      <td>4.761658</td>\n",
       "      <td>1.103627</td>\n",
       "      <td>413.0</td>\n",
       "      <td>2.139896</td>\n",
       "      <td>37.85</td>\n",
       "      <td>-122.25</td>\n",
       "      <td>2.697</td>\n",
       "    </tr>\n",
       "    <tr>\n",
       "      <th>6</th>\n",
       "      <td>3.6591</td>\n",
       "      <td>52.0</td>\n",
       "      <td>4.931907</td>\n",
       "      <td>0.951362</td>\n",
       "      <td>1094.0</td>\n",
       "      <td>2.128405</td>\n",
       "      <td>37.84</td>\n",
       "      <td>-122.25</td>\n",
       "      <td>2.992</td>\n",
       "    </tr>\n",
       "    <tr>\n",
       "      <th>7</th>\n",
       "      <td>3.1200</td>\n",
       "      <td>52.0</td>\n",
       "      <td>4.797527</td>\n",
       "      <td>1.061824</td>\n",
       "      <td>1157.0</td>\n",
       "      <td>1.788253</td>\n",
       "      <td>37.84</td>\n",
       "      <td>-122.25</td>\n",
       "      <td>2.414</td>\n",
       "    </tr>\n",
       "    <tr>\n",
       "      <th>8</th>\n",
       "      <td>2.0804</td>\n",
       "      <td>42.0</td>\n",
       "      <td>4.294118</td>\n",
       "      <td>1.117647</td>\n",
       "      <td>1206.0</td>\n",
       "      <td>2.026891</td>\n",
       "      <td>37.84</td>\n",
       "      <td>-122.26</td>\n",
       "      <td>2.267</td>\n",
       "    </tr>\n",
       "    <tr>\n",
       "      <th>9</th>\n",
       "      <td>3.6912</td>\n",
       "      <td>52.0</td>\n",
       "      <td>4.970588</td>\n",
       "      <td>0.990196</td>\n",
       "      <td>1551.0</td>\n",
       "      <td>2.172269</td>\n",
       "      <td>37.84</td>\n",
       "      <td>-122.25</td>\n",
       "      <td>2.611</td>\n",
       "    </tr>\n",
       "  </tbody>\n",
       "</table>\n",
       "</div>"
      ],
      "text/plain": [
       "   MedInc  HouseAge  AveRooms  AveBedrms  Population  AveOccup  Latitude  \\\n",
       "0  8.3252      41.0  6.984127   1.023810       322.0  2.555556     37.88   \n",
       "1  8.3014      21.0  6.238137   0.971880      2401.0  2.109842     37.86   \n",
       "2  7.2574      52.0  8.288136   1.073446       496.0  2.802260     37.85   \n",
       "3  5.6431      52.0  5.817352   1.073059       558.0  2.547945     37.85   \n",
       "4  3.8462      52.0  6.281853   1.081081       565.0  2.181467     37.85   \n",
       "5  4.0368      52.0  4.761658   1.103627       413.0  2.139896     37.85   \n",
       "6  3.6591      52.0  4.931907   0.951362      1094.0  2.128405     37.84   \n",
       "7  3.1200      52.0  4.797527   1.061824      1157.0  1.788253     37.84   \n",
       "8  2.0804      42.0  4.294118   1.117647      1206.0  2.026891     37.84   \n",
       "9  3.6912      52.0  4.970588   0.990196      1551.0  2.172269     37.84   \n",
       "\n",
       "   Longitude  Price  \n",
       "0    -122.23  4.526  \n",
       "1    -122.22  3.585  \n",
       "2    -122.24  3.521  \n",
       "3    -122.25  3.413  \n",
       "4    -122.25  3.422  \n",
       "5    -122.25  2.697  \n",
       "6    -122.25  2.992  \n",
       "7    -122.25  2.414  \n",
       "8    -122.26  2.267  \n",
       "9    -122.25  2.611  "
      ]
     },
     "execution_count": 2,
     "metadata": {},
     "output_type": "execute_result"
    }
   ],
   "source": [
    "#Loading dataset and assiging to X and y\n",
    "\n",
    "housing = datasets.fetch_california_housing()\n",
    "\n",
    "y = housing.target\n",
    "X = housing.data\n",
    "\n",
    "\n",
    "df = pd.DataFrame(X,columns=housing.feature_names) #Creating df from the np array\n",
    "df['Price'] = y\n",
    "df.head(10)\n",
    "\n"
   ]
  },
  {
   "cell_type": "code",
   "execution_count": 3,
   "id": "0afba643",
   "metadata": {},
   "outputs": [
    {
     "name": "stdout",
     "output_type": "stream",
     "text": [
      "[4.526 3.585 3.521 ... 0.923 0.847 0.894]\n"
     ]
    }
   ],
   "source": [
    "print(y)"
   ]
  },
  {
   "cell_type": "code",
   "execution_count": 4,
   "id": "f5fa3ed8",
   "metadata": {},
   "outputs": [
    {
     "name": "stdout",
     "output_type": "stream",
     "text": [
      "(16512, 8) (4128, 8) (16512,) (4128,)\n",
      "['MedInc', 'HouseAge', 'AveRooms', 'AveBedrms', 'Population', 'AveOccup', 'Latitude', 'Longitude']\n",
      "[   2.3036       39.            3.79329609    0.91620112  769.\n",
      "    4.29608939   33.88       -117.57      ]\n",
      "1.106\n"
     ]
    }
   ],
   "source": [
    "X_train, X_test, y_train, y_test = train_test_split(X,y,test_size=0.2,random_state=21)\n",
    "\n",
    "print(X_train.shape,X_test.shape,y_train.shape,y_test.shape)\n",
    "\n",
    "print(housing.feature_names)\n",
    "print(X_train[0])\n",
    "print(y_train[0])  #y_train is np array and the X value i have converted to data frame\n"
   ]
  },
  {
   "cell_type": "code",
   "execution_count": 5,
   "id": "42c43edc",
   "metadata": {},
   "outputs": [],
   "source": [
    "\n",
    "def model_training(model,X_train,X_test,y_train,y_test):\n",
    "  \n",
    "  model.fit(X_train,y_train)\n",
    "  y_pred = model.predict(X_test)\n",
    "  print(f\"Model: {model} - R2 score: {r2_score(y_test,y_pred)}\")\n",
    "\n",
    "  "
   ]
  },
  {
   "cell_type": "code",
   "execution_count": 6,
   "id": "8f691984",
   "metadata": {},
   "outputs": [
    {
     "name": "stdout",
     "output_type": "stream",
     "text": [
      "Model: LinearRegression() - R2 score: 0.5971316271518996\n"
     ]
    }
   ],
   "source": [
    "model = LinearRegression()\n",
    "model_training(model,X_train,X_test,y_train,y_test)"
   ]
  },
  {
   "cell_type": "markdown",
   "id": "03b5482f",
   "metadata": {},
   "source": [
    "### Using polynomial Features for optimization"
   ]
  },
  {
   "cell_type": "code",
   "execution_count": 7,
   "id": "5f68dfee",
   "metadata": {},
   "outputs": [],
   "source": [
    "#Importing\n",
    "\n",
    "from sklearn.preprocessing import PolynomialFeatures"
   ]
  },
  {
   "cell_type": "code",
   "execution_count": 8,
   "id": "e646fe73",
   "metadata": {},
   "outputs": [],
   "source": [
    "poly = PolynomialFeatures()\n",
    "X_train_transformed = poly.fit_transform(X_train)\n",
    "# print(X_train)\n",
    "\n",
    "X_test_transformed = poly.transform(X_test)\n",
    "# print(X_test_transformed)"
   ]
  },
  {
   "cell_type": "code",
   "execution_count": 9,
   "id": "c4432c11",
   "metadata": {},
   "outputs": [
    {
     "name": "stdout",
     "output_type": "stream",
     "text": [
      "Model: LinearRegression() - R2 score: 0.6763125703542963\n"
     ]
    }
   ],
   "source": [
    "LR = LinearRegression()\n",
    "model_training(LR,X_train_transformed,X_test_transformed,y_train,y_test)"
   ]
  },
  {
   "cell_type": "markdown",
   "id": "6740c9a3",
   "metadata": {},
   "source": [
    "### GradientBoosting & RandomForest Regressor"
   ]
  },
  {
   "cell_type": "code",
   "execution_count": 10,
   "id": "4356a93b",
   "metadata": {},
   "outputs": [],
   "source": [
    "#Importing\n",
    "\n",
    "from sklearn.ensemble import HistGradientBoostingRegressor, RandomForestRegressor"
   ]
  },
  {
   "cell_type": "code",
   "execution_count": 11,
   "id": "296dcc57",
   "metadata": {},
   "outputs": [
    {
     "name": "stdout",
     "output_type": "stream",
     "text": [
      "Model: LinearRegression() - R2 score: 0.6763125703542963\n",
      "Model: HistGradientBoostingRegressor() - R2 score: 0.8370141730003633\n",
      "Model: RandomForestRegressor(n_jobs=4) - R2 score: 0.8024156351095219\n"
     ]
    }
   ],
   "source": [
    "GBR = HistGradientBoostingRegressor()\n",
    "RFR = RandomForestRegressor(n_jobs=4)\n",
    "\n",
    "for i in [LR, GBR, RFR]:\n",
    "  model_training(i,X_train_transformed,X_test_transformed,y_train,y_test)\n"
   ]
  },
  {
   "cell_type": "code",
   "execution_count": 49,
   "id": "d17f64a7",
   "metadata": {},
   "outputs": [
    {
     "name": "stdout",
     "output_type": "stream",
     "text": [
      "max_iter: 200  learning rate: 0.1   Model: HistGradientBoostingRegressor(max_iter=200, random_state=9) - R2 score: 0.8467087346427031\n",
      "max_iter: 201  learning rate: 0.1   Model: HistGradientBoostingRegressor(max_iter=201, random_state=9) - R2 score: 0.8466852950468606\n",
      "max_iter: 202  learning rate: 0.1   Model: HistGradientBoostingRegressor(max_iter=202, random_state=9) - R2 score: 0.8468266569767341\n",
      "max_iter: 203  learning rate: 0.1   Model: HistGradientBoostingRegressor(max_iter=203, random_state=9) - R2 score: 0.8470850107829715\n",
      "max_iter: 204  learning rate: 0.1   Model: HistGradientBoostingRegressor(max_iter=204, random_state=9) - R2 score: 0.8471511578591415\n",
      "max_iter: 205  learning rate: 0.1   Model: HistGradientBoostingRegressor(max_iter=205, random_state=9) - R2 score: 0.8471937717491757\n",
      "max_iter: 206  learning rate: 0.1   Model: HistGradientBoostingRegressor(max_iter=206, random_state=9) - R2 score: 0.8471435772969106\n",
      "max_iter: 207  learning rate: 0.1   Model: HistGradientBoostingRegressor(max_iter=207, random_state=9) - R2 score: 0.8471804408374302\n",
      "max_iter: 208  learning rate: 0.1   Model: HistGradientBoostingRegressor(max_iter=208, random_state=9) - R2 score: 0.8471729304451345\n",
      "max_iter: 209  learning rate: 0.1   Model: HistGradientBoostingRegressor(max_iter=209, random_state=9) - R2 score: 0.8472120178805321\n",
      "max_iter: 200  learning rate: 0.09   Model: HistGradientBoostingRegressor(learning_rate=0.09, max_iter=200, random_state=9) - R2 score: 0.8449973873676344\n",
      "max_iter: 201  learning rate: 0.09   Model: HistGradientBoostingRegressor(learning_rate=0.09, max_iter=201, random_state=9) - R2 score: 0.8451322204287947\n",
      "max_iter: 202  learning rate: 0.09   Model: HistGradientBoostingRegressor(learning_rate=0.09, max_iter=202, random_state=9) - R2 score: 0.8451232911084683\n",
      "max_iter: 203  learning rate: 0.09   Model: HistGradientBoostingRegressor(learning_rate=0.09, max_iter=203, random_state=9) - R2 score: 0.8451149772615838\n",
      "max_iter: 204  learning rate: 0.09   Model: HistGradientBoostingRegressor(learning_rate=0.09, max_iter=204, random_state=9) - R2 score: 0.8451987176002959\n",
      "max_iter: 205  learning rate: 0.09   Model: HistGradientBoostingRegressor(learning_rate=0.09, max_iter=205, random_state=9) - R2 score: 0.8453018035593248\n",
      "max_iter: 206  learning rate: 0.09   Model: HistGradientBoostingRegressor(learning_rate=0.09, max_iter=206, random_state=9) - R2 score: 0.8453465924072161\n",
      "max_iter: 207  learning rate: 0.09   Model: HistGradientBoostingRegressor(learning_rate=0.09, max_iter=207, random_state=9) - R2 score: 0.8453593904140189\n",
      "max_iter: 208  learning rate: 0.09   Model: HistGradientBoostingRegressor(learning_rate=0.09, max_iter=208, random_state=9) - R2 score: 0.8454055455237223\n",
      "max_iter: 209  learning rate: 0.09   Model: HistGradientBoostingRegressor(learning_rate=0.09, max_iter=209, random_state=9) - R2 score: 0.8454514862872922\n"
     ]
    }
   ],
   "source": [
    "for j in [0.1,0.09]:\n",
    "  for i in range(200,210,1):\n",
    "    model = HistGradientBoostingRegressor(\n",
    "      max_iter=i,\n",
    "      learning_rate=j,\n",
    "      random_state=9\n",
    "\n",
    "    )\n",
    "\n",
    "    print(f\"max_iter: {i}  learning rate: {j}\", end=\"   \")\n",
    "    model_training(model,X_train_transformed,X_test_transformed,y_train,y_test)\n",
    "  "
   ]
  },
  {
   "cell_type": "code",
   "execution_count": 55,
   "id": "c7c6692c",
   "metadata": {},
   "outputs": [
    {
     "name": "stdout",
     "output_type": "stream",
     "text": [
      "Model: HistGradientBoostingRegressor(max_iter=207, random_state=9) - R2 score: 0.8471804408374302\n"
     ]
    }
   ],
   "source": [
    "# max 207 and learning rate  0.1 are the best parameter\n",
    "\n",
    "model = HistGradientBoostingRegressor(\n",
    "  max_iter=207,\n",
    "  learning_rate=0.1,\n",
    "  random_state=9\n",
    "  \n",
    ")\n",
    "\n",
    "model_training(model,X_train_transformed,X_test_transformed,y_train,y_test)\n"
   ]
  },
  {
   "cell_type": "code",
   "execution_count": 56,
   "id": "60289b51",
   "metadata": {},
   "outputs": [
    {
     "data": {
      "text/plain": [
       "['house_price_model.joblib']"
      ]
     },
     "execution_count": 56,
     "metadata": {},
     "output_type": "execute_result"
    }
   ],
   "source": [
    "#Saving model\n",
    "\n",
    "joblib.dump(model,\"house_price_model.joblib\")\n"
   ]
  },
  {
   "cell_type": "code",
   "execution_count": 57,
   "id": "2b30633c",
   "metadata": {},
   "outputs": [
    {
     "name": "stdout",
     "output_type": "stream",
     "text": [
      "r2 score:  0.8471804408374302\n"
     ]
    }
   ],
   "source": [
    "#Loading model\n",
    "\n",
    "Local_model = joblib.load('house_price_model.joblib')\n",
    "y_pred = Local_model.predict(X_test_transformed)\n",
    "\n",
    "r2 = r2_score(y_test,y_pred)\n",
    "print(\"r2 score: \",r2)\n"
   ]
  },
  {
   "cell_type": "code",
   "execution_count": 69,
   "id": "654ec447",
   "metadata": {},
   "outputs": [
    {
     "data": {
      "text/plain": [
       "Text(0, 0.5, 'Predicted value')"
      ]
     },
     "execution_count": 69,
     "metadata": {},
     "output_type": "execute_result"
    },
    {
     "data": {
      "image/png": "[encoded data removed]",
      "text/plain": [
       "<Figure size 640x480 with 1 Axes>"
      ]
     },
     "metadata": {},
     "output_type": "display_data"
    }
   ],
   "source": [
    "#Visualizing output \n",
    "\n",
    "plt.scatter(y_test,y_pred,alpha=0.5,c='y')\n",
    "plt.plot([y_test.min(),y_test.max()],[y_test.min(),y_test.max()],color='r')\n",
    "plt.title('HistGradientBoostingRegressor')\n",
    "plt.xlabel('Actual value')\n",
    "plt.ylabel('Predicted value')"
   ]
  }
 ],
 "metadata": {
  "kernelspec": {
   "display_name": "myEnv",
   "language": "python",
   "name": "python3"
  },
  "language_info": {
   "codemirror_mode": {
    "name": "ipython",
    "version": 3
   },
   "file_extension": ".py",
   "mimetype": "text/x-python",
   "name": "python",
   "nbconvert_exporter": "python",
   "pygments_lexer": "ipython3",
   "version": "3.13.5"
  }
 },
 "nbformat": 4,
 "nbformat_minor": 5
}
